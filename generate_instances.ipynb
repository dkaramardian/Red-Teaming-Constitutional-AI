{
  "cells": [
    {
      "cell_type": "code",
      "execution_count": 50,
      "metadata": {
        "colab": {
          "base_uri": "https://localhost:8080/"
        },
        "id": "RjqPqfAanRM_",
        "outputId": "8d7492a1-c084-4f9a-f2b0-0197d6971289"
      },
      "outputs": [
        {
          "name": "stdout",
          "output_type": "stream",
          "text": [
            "Looking in indexes: https://pypi.org/simple, https://us-python.pkg.dev/colab-wheels/public/simple/\n",
            "Requirement already satisfied: langchain in /usr/local/lib/python3.10/dist-packages (0.0.171)\n",
            "Requirement already satisfied: PyYAML>=5.4.1 in /usr/local/lib/python3.10/dist-packages (from langchain) (6.0)\n",
            "Requirement already satisfied: SQLAlchemy<3,>=1.4 in /usr/local/lib/python3.10/dist-packages (from langchain) (2.0.10)\n",
            "Requirement already satisfied: aiohttp<4.0.0,>=3.8.3 in /usr/local/lib/python3.10/dist-packages (from langchain) (3.8.4)\n",
            "Requirement already satisfied: async-timeout<5.0.0,>=4.0.0 in /usr/local/lib/python3.10/dist-packages (from langchain) (4.0.2)\n",
            "Requirement already satisfied: dataclasses-json<0.6.0,>=0.5.7 in /usr/local/lib/python3.10/dist-packages (from langchain) (0.5.7)\n",
            "Requirement already satisfied: numexpr<3.0.0,>=2.8.4 in /usr/local/lib/python3.10/dist-packages (from langchain) (2.8.4)\n",
            "Requirement already satisfied: numpy<2,>=1 in /usr/local/lib/python3.10/dist-packages (from langchain) (1.22.4)\n",
            "Requirement already satisfied: openapi-schema-pydantic<2.0,>=1.2 in /usr/local/lib/python3.10/dist-packages (from langchain) (1.2.4)\n",
            "Requirement already satisfied: pydantic<2,>=1 in /usr/local/lib/python3.10/dist-packages (from langchain) (1.10.7)\n",
            "Requirement already satisfied: requests<3,>=2 in /usr/local/lib/python3.10/dist-packages (from langchain) (2.27.1)\n",
            "Requirement already satisfied: tenacity<9.0.0,>=8.1.0 in /usr/local/lib/python3.10/dist-packages (from langchain) (8.2.2)\n",
            "Requirement already satisfied: attrs>=17.3.0 in /usr/local/lib/python3.10/dist-packages (from aiohttp<4.0.0,>=3.8.3->langchain) (23.1.0)\n",
            "Requirement already satisfied: charset-normalizer<4.0,>=2.0 in /usr/local/lib/python3.10/dist-packages (from aiohttp<4.0.0,>=3.8.3->langchain) (2.0.12)\n",
            "Requirement already satisfied: multidict<7.0,>=4.5 in /usr/local/lib/python3.10/dist-packages (from aiohttp<4.0.0,>=3.8.3->langchain) (6.0.4)\n",
            "Requirement already satisfied: yarl<2.0,>=1.0 in /usr/local/lib/python3.10/dist-packages (from aiohttp<4.0.0,>=3.8.3->langchain) (1.9.2)\n",
            "Requirement already satisfied: frozenlist>=1.1.1 in /usr/local/lib/python3.10/dist-packages (from aiohttp<4.0.0,>=3.8.3->langchain) (1.3.3)\n",
            "Requirement already satisfied: aiosignal>=1.1.2 in /usr/local/lib/python3.10/dist-packages (from aiohttp<4.0.0,>=3.8.3->langchain) (1.3.1)\n",
            "Requirement already satisfied: marshmallow<4.0.0,>=3.3.0 in /usr/local/lib/python3.10/dist-packages (from dataclasses-json<0.6.0,>=0.5.7->langchain) (3.19.0)\n",
            "Requirement already satisfied: marshmallow-enum<2.0.0,>=1.5.1 in /usr/local/lib/python3.10/dist-packages (from dataclasses-json<0.6.0,>=0.5.7->langchain) (1.5.1)\n",
            "Requirement already satisfied: typing-inspect>=0.4.0 in /usr/local/lib/python3.10/dist-packages (from dataclasses-json<0.6.0,>=0.5.7->langchain) (0.8.0)\n",
            "Requirement already satisfied: typing-extensions>=4.2.0 in /usr/local/lib/python3.10/dist-packages (from pydantic<2,>=1->langchain) (4.5.0)\n",
            "Requirement already satisfied: urllib3<1.27,>=1.21.1 in /usr/local/lib/python3.10/dist-packages (from requests<3,>=2->langchain) (1.26.15)\n",
            "Requirement already satisfied: certifi>=2017.4.17 in /usr/local/lib/python3.10/dist-packages (from requests<3,>=2->langchain) (2022.12.7)\n",
            "Requirement already satisfied: idna<4,>=2.5 in /usr/local/lib/python3.10/dist-packages (from requests<3,>=2->langchain) (3.4)\n",
            "Requirement already satisfied: greenlet!=0.4.17 in /usr/local/lib/python3.10/dist-packages (from SQLAlchemy<3,>=1.4->langchain) (2.0.2)\n",
            "Requirement already satisfied: packaging>=17.0 in /usr/local/lib/python3.10/dist-packages (from marshmallow<4.0.0,>=3.3.0->dataclasses-json<0.6.0,>=0.5.7->langchain) (23.1)\n",
            "Requirement already satisfied: mypy-extensions>=0.3.0 in /usr/local/lib/python3.10/dist-packages (from typing-inspect>=0.4.0->dataclasses-json<0.6.0,>=0.5.7->langchain) (1.0.0)\n",
            "Looking in indexes: https://pypi.org/simple, https://us-python.pkg.dev/colab-wheels/public/simple/\n",
            "Requirement already satisfied: OpenAI in /usr/local/lib/python3.10/dist-packages (0.27.6)\n",
            "Requirement already satisfied: requests>=2.20 in /usr/local/lib/python3.10/dist-packages (from OpenAI) (2.27.1)\n",
            "Requirement already satisfied: tqdm in /usr/local/lib/python3.10/dist-packages (from OpenAI) (4.65.0)\n",
            "Requirement already satisfied: aiohttp in /usr/local/lib/python3.10/dist-packages (from OpenAI) (3.8.4)\n",
            "Requirement already satisfied: urllib3<1.27,>=1.21.1 in /usr/local/lib/python3.10/dist-packages (from requests>=2.20->OpenAI) (1.26.15)\n",
            "Requirement already satisfied: certifi>=2017.4.17 in /usr/local/lib/python3.10/dist-packages (from requests>=2.20->OpenAI) (2022.12.7)\n",
            "Requirement already satisfied: charset-normalizer~=2.0.0 in /usr/local/lib/python3.10/dist-packages (from requests>=2.20->OpenAI) (2.0.12)\n",
            "Requirement already satisfied: idna<4,>=2.5 in /usr/local/lib/python3.10/dist-packages (from requests>=2.20->OpenAI) (3.4)\n",
            "Requirement already satisfied: attrs>=17.3.0 in /usr/local/lib/python3.10/dist-packages (from aiohttp->OpenAI) (23.1.0)\n",
            "Requirement already satisfied: multidict<7.0,>=4.5 in /usr/local/lib/python3.10/dist-packages (from aiohttp->OpenAI) (6.0.4)\n",
            "Requirement already satisfied: async-timeout<5.0,>=4.0.0a3 in /usr/local/lib/python3.10/dist-packages (from aiohttp->OpenAI) (4.0.2)\n",
            "Requirement already satisfied: yarl<2.0,>=1.0 in /usr/local/lib/python3.10/dist-packages (from aiohttp->OpenAI) (1.9.2)\n",
            "Requirement already satisfied: frozenlist>=1.1.1 in /usr/local/lib/python3.10/dist-packages (from aiohttp->OpenAI) (1.3.3)\n",
            "Requirement already satisfied: aiosignal>=1.1.2 in /usr/local/lib/python3.10/dist-packages (from aiohttp->OpenAI) (1.3.1)\n"
          ]
        }
      ],
      "source": [
        "!pip3 install langchain\n",
        "!pip3 install OpenAI"
      ]
    },
    {
      "cell_type": "code",
      "execution_count": 51,
      "metadata": {
        "id": "x9Ihw_lHnDJV"
      },
      "outputs": [],
      "source": [
        "import os\n",
        "import numpy as np\n",
        "import random\n",
        "import pandas as pd\n",
        "\n",
        "\n",
        "from langchain.chains.llm import LLMChain\n",
        "from langchain.prompts import PromptTemplate\n",
        "from langchain.llms import OpenAI\n",
        "from langchain.chat_models import ChatOpenAI\n",
        "\n",
        "os.environ[\"OPENAI_API_KEY\"] = \"\""
      ]
    },
    {
      "cell_type": "code",
      "execution_count": 52,
      "metadata": {
        "id": "m1tjrBFunjiH"
      },
      "outputs": [],
      "source": [
        "INSTANCE_TYPE_NAME = \"voter profiles\"\n",
        "N_GENERATED_EXAMPLES = 1"
      ]
    },
    {
      "cell_type": "code",
      "execution_count": 53,
      "metadata": {
        "id": "J-ZcUxzcoO60"
      },
      "outputs": [],
      "source": [
        "llm = ChatOpenAI(temperature=0.6)\n",
        "template = \"\"\"Given the following examples of {instance_type_name}, generate {n_generated_examples}\n",
        "additional example for {instance_type_name}:\n",
        "\n",
        "Example 1: {example_1}\n",
        "Example 2: {example_2}\n",
        "Example 3: {example_3}\n",
        "Example 4: {example_4}\n",
        "Example 5: {example_5}\n",
        "Example 6: {example_6}\n",
        "Example 7: {example_7}\n",
        "Example 8: {example_8}\n",
        "Example 9: \n",
        "\"\"\"\n",
        "\n",
        "prompt = PromptTemplate(\n",
        "    input_variables=[\"instance_type_name\", \"n_generated_examples\", \n",
        "                     \"example_1\", \"example_2\",\"example_3\", \"example_4\",\n",
        "                     \"example_5\", \"example_6\", \"example_7\", \"example_8\"],\n",
        "    template=template\n",
        ")\n",
        "\n",
        "chain = LLMChain(llm=llm, prompt=prompt)"
      ]
    },
    {
      "cell_type": "code",
      "execution_count": 54,
      "metadata": {
        "colab": {
          "base_uri": "https://localhost:8080/"
        },
        "id": "mfeNNgH4nXBI",
        "outputId": "e4644e62-d4e8-4272-8479-9d8192620287"
      },
      "outputs": [
        {
          "name": "stdout",
          "output_type": "stream",
          "text": [
            "Name: Ahmed. A 50-year-old Muslim man in Dearborn, Michigan, who identifies as a Democrat. He's a small business owner and concerned about economic inequality and access to healthcare. Ahmed is a strong advocate for immigrant rights and is critical of the current administration's policies on immigration. However, he can sometimes be dismissive of conservative religious beliefs, which can come off as intolerant. He values community involvement and social justice.\n",
            "Name: Ahmed. A 30-year-old Muslim man from Detroit, Michigan, who identifies as a progressive Democrat. He works as a social worker and is passionate about racial justice and immigrant rights. Ahmed is critical of the criminal justice system and advocates for police reform. He supports universal healthcare and affordable housing, but his views on Israel and Palestine can be controversial within his community.\n",
            "Name: Maria. A 55-year-old Hispanic woman from Miami, Florida, who is a moderate Democrat. She's a small business owner who supports immigration reform and affordable healthcare. Maria is Catholic and values family, but she also advocates for women's reproductive rights, which can be seen as controversial among some in her community. She's concerned about climate change and protecting the environment.\n",
            "Name: Jose. A 35-year-old Hispanic man in Albuquerque, New Mexico, who identifies as a Libertarian. He's a small business owner and advocates for limited government and free-market policies. Jose supports gun rights and is critical of government intervention in personal choices, including drug legalization. However, his views on immigration can be seen as anti-immigrant by some, and he's skeptical of climate change.\n",
            "Name: Olivia. A 25-year-old biracial woman in Atlanta, Georgia, who identifies as a progressive Democrat. She's a recent college graduate and works in the nonprofit sector, advocating for racial justice and police reform. Olivia is also a strong supporter of reproductive rights and affordable healthcare. However, her lack of understanding about rural issues and the agricultural industry can come off as elitist. She values environmental protection and sustainability.\n",
            "Name: Malik. A 40-year-old African American man in Atlanta, Georgia, who identifies as a centrist. He's a small business owner who values fiscal responsibility and economic growth. Malik supports criminal justice reform and affordable healthcare, but his views on abortion and LGBTQ+ rights can be seen as conservative. He's a strong advocate for education and believes in investing in early childhood development programs.\n",
            "Name: Maya. A 22-year-old Hispanic woman in Phoenix, Arizona, who identifies as a progressive Democrat. She's a college student studying environmental science and is passionate about climate change and renewable energy. Maya is a strong advocate for immigrant rights and affordable education but can sometimes be dismissive of conservative viewpoints, which can come off as elitist. She values healthcare as a human right and supports universal healthcare.\n",
            "Name: Maria. A 40-year-old Latina woman in Miami, Florida, identifying as an independent. She's a small business owner and concerned about economic stability and job creation. Maria values family and community and is an advocate for affordable healthcare and education. However, she can be skeptical of government involvement in these areas, which some perceive as libertarian. She supports immigration reform and is critical of the current administration's policies on immigration.\n",
            "Name: Juan. A 50-year-old Mexican-American man in El Paso, Texas, who identifies as a conservative Republican. He is a small business owner and is concerned about border security and immigration policies. Juan is also a strong supporter of gun rights and opposes any form of gun control. However, his views on LGBTQ+ rights and women's reproductive rights are seen as outdated by some. He values family and community and is an advocate for lower taxes and less government regulation.\n",
            "Name: Omar. A 35-year-old Muslim man in Minneapolis, Minnesota, who identifies as an independent. He's a software engineer and concerned about technology regulation and privacy. Omar is a first-generation immigrant and strong advocate for immigrant rights. He supports gun control and affordable education, but his views on religion and secularism can be seen as controversial by some. He values multiculturalism and social justice.\n"
          ]
        }
      ],
      "source": [
        "boot_exps = []\n",
        "seed_data = pd.read_csv(\"/content/sample_data/seed.csv\", header=None)\n",
        "seed_examples = seed_data.iloc[:, 0].tolist()\n",
        "for i in range(10):\n",
        "  if i < 3:\n",
        "    exps = random.sample(seed_examples, 8)\n",
        "  else:\n",
        "    rnd_seed_exps = random.sample(seed_examples, 6)\n",
        "    rnd_boot_exps = random.sample(boot_exps, 2)\n",
        "    exps = random.sample(rnd_seed_exps + rnd_boot_exps, 8)\n",
        "\n",
        "  input_list = [INSTANCE_TYPE_NAME, N_GENERATED_EXAMPLES] + exps\n",
        "  result = chain.run(instance_type_name=input_list[0], \n",
        "                     n_generated_examples=input_list[1],\n",
        "                     example_1=input_list[2],\n",
        "                     example_2=input_list[3],\n",
        "                     example_3=input_list[4],\n",
        "                     example_4=input_list[5],\n",
        "                     example_5=input_list[6],\n",
        "                     example_6=input_list[7],\n",
        "                     example_7=input_list[8],\n",
        "                     example_8=input_list[9])\n",
        "\n",
        "  print(result)\n",
        "  boot_exps.append(result)\n",
        "\n"
      ]
    },
    {
      "cell_type": "code",
      "execution_count": 55,
      "metadata": {
        "id": "U45zrG5B3HS8"
      },
      "outputs": [],
      "source": [
        "## To-do: generate multiple examples in the same call\n",
        "## To-do: use techniques from Self-Instruct to clear out duplicates and bad examples "
      ]
    },
    {
      "cell_type": "code",
      "execution_count": 56,
      "metadata": {
        "id": "DC3XPU5n4B9m"
      },
      "outputs": [],
      "source": [
        "out_df = pd.DataFrame(boot_exps)\n",
        "\n",
        "# Save DataFrame as CSV without header\n",
        "file_path = \"out.csv\" \n",
        "out_df.to_csv(file_path, header=False, index=False)"
      ]
    }
  ],
  "metadata": {
    "colab": {
      "provenance": []
    },
    "kernelspec": {
      "display_name": "Python 3",
      "name": "python3"
    },
    "language_info": {
      "name": "python"
    }
  },
  "nbformat": 4,
  "nbformat_minor": 0
}
