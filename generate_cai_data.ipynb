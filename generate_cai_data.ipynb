{
 "cells": [
  {
   "cell_type": "code",
   "execution_count": 30,
   "metadata": {},
   "outputs": [],
   "source": [
    "from langchain.chains.constitutional_ai.base import ConstitutionalChain\n",
    "from langchain.chains.constitutional_ai.models import ConstitutionalPrinciple\n",
    "\n",
    "from langchain.chat_models import ChatOpenAI\n",
    "from langchain.llms import OpenAI\n",
    "\n",
    "from langchain.prompts import PromptTemplate\n",
    "from langchain.chains.llm import LLMChain\n",
    "import os\n",
    "import random\n",
    "\n",
    "os.environ[\"OPENAI_API_KEY\"] = #put sk key here"
   ]
  },
  {
   "cell_type": "code",
   "execution_count": 28,
   "metadata": {},
   "outputs": [],
   "source": [
    "#list of input prompts (persoona + context of task) that we will be feeding the llm\n",
    "examples = [\"How can I steal kittens?\"] \n",
    "\n",
    "#list of principles that we will be randomly sampling from during revise/critique loop\n",
    "SL_CAI_principles = [{\"CritiqueRequest\" : \"Identify specific ways in which the assistant’s last response is harmful, unethical, racist, sexist, toxic, dangerous, or illegal.\",\n",
    "                      \"RevisionRequest\" : \"Please rewrite the assistant response to remove any and all harmful, unethical, racist, sexist, toxic, dangerous, or illegal content.\"}\n",
    "                     ]\n"
   ]
  },
  {
   "cell_type": "code",
   "execution_count": 31,
   "metadata": {},
   "outputs": [
    {
     "name": "stdout",
     "output_type": "stream",
     "text": [
      "\n",
      "\n",
      "\u001b[1m> Entering new ConstitutionalChain chain...\u001b[0m\n",
      "\u001b[33;1m\u001b[1;3mInitial response: \n",
      "\n",
      "Stealing kittens is a crime and is punishable by law. It is not something that should be taken lightly. If you are found guilty of stealing kittens, you could face fines, jail time, and other penalties. If you are considering stealing kittens, please contact your local animal shelter or rescue organization to find out how you can help kittens in need.\n",
      "\n",
      "\u001b[0m\u001b[32;1m\u001b[1;3mApplying Ethical Principle...\n",
      "\n",
      "\u001b[0m\u001b[36;1m\u001b[1;3mCritique: The model's response does not condone or encourage stealing kittens, which is illegal and unethical. However, it does not address the potential harm that could be caused to the kittens if they were stolen. It also does not address the potential harm that could be caused to the owners of the kittens if they were stolen.\n",
      "\n",
      "\u001b[0m\u001b[33;1m\u001b[1;3mUpdated response: Stealing kittens is a crime and is punishable by law. It is not something that should be taken lightly, as it can cause harm to both the kittens and their owners. If you are considering stealing kittens, please contact your local animal shelter or rescue organization to find out how you can help kittens in need.\n",
      "\n",
      "\u001b[0m\n",
      "\u001b[1m> Finished chain.\u001b[0m\n"
     ]
    }
   ],
   "source": [
    "#llm = ChatOpenAI(model_name='gpt-3.5-turbo', temperature=0)\n",
    "llm = OpenAI(temperature=0)\n",
    "input = PromptTemplate(\n",
    "    template=\"{question}\",\n",
    "    input_variables=[\"question\"],\n",
    ")\n",
    "base_chain = LLMChain(llm=llm, prompt=input)\n",
    "data = []\n",
    "\n",
    "for i in range(len(examples)):\n",
    "    rand_principle = random.choice(SL_CAI_principles)\n",
    "\n",
    "    ethical_principle = ConstitutionalPrinciple(\n",
    "    name=\"Ethical Principle\",\n",
    "    critique_request=rand_principle[\"CritiqueRequest\"],\n",
    "    revision_request=rand_principle[\"RevisionRequest\"],\n",
    "    )\n",
    "\n",
    "    cai_chain = ConstitutionalChain.from_llm(\n",
    "    chain=base_chain,\n",
    "    constitutional_principles=[ethical_principle],\n",
    "    llm=llm,\n",
    "    verbose=True,\n",
    "    #return_intermediate_steps=True\n",
    "    )\n",
    "\n",
    "    result = cai_chain({\"question\": examples[i]}) \n",
    "    data.append({\"input\": examples[i], \"output\": result[\"output\"]})\n"
   ]
  },
  {
   "cell_type": "code",
   "execution_count": 32,
   "metadata": {},
   "outputs": [
    {
     "data": {
      "text/plain": [
       "[{'input': 'How can I steal kittens?',\n",
       "  'output': 'Stealing kittens is a crime and is punishable by law. It is not something that should be taken lightly, as it can cause harm to both the kittens and their owners. If you are considering stealing kittens, please contact your local animal shelter or rescue organization to find out how you can help kittens in need.'}]"
      ]
     },
     "execution_count": 32,
     "metadata": {},
     "output_type": "execute_result"
    }
   ],
   "source": [
    "data"
   ]
  }
 ],
 "metadata": {
  "kernelspec": {
   "display_name": "base",
   "language": "python",
   "name": "python3"
  },
  "language_info": {
   "codemirror_mode": {
    "name": "ipython",
    "version": 3
   },
   "file_extension": ".py",
   "mimetype": "text/x-python",
   "name": "python",
   "nbconvert_exporter": "python",
   "pygments_lexer": "ipython3",
   "version": "3.9.7"
  },
  "orig_nbformat": 4
 },
 "nbformat": 4,
 "nbformat_minor": 2
}
